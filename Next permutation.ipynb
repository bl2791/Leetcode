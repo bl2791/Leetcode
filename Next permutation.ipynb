{
 "cells": [
  {
   "cell_type": "code",
   "execution_count": 18,
   "metadata": {},
   "outputs": [],
   "source": [
    "# The permutations of 123 are 123，132，213，231，312，321\n",
    "class Solution(object):   \n",
    "    def nextPermutation(nums):\n",
    "        \"\"\"\n",
    "        :type nums: List[int]\n",
    "        :rtype: None Do not return anything, modify nums in-place instead.\n",
    "        \"\"\"\n",
    "        if len(nums) == 0 or len(nums) == 1:\n",
    "            return nums\n",
    "        for i in range(len(nums) - 2, -1, -1):\n",
    "            if nums[i] < nums[i+1]:\n",
    "                for j in range(len(nums) - 1, -1, -1):\n",
    "                    if nums[j] > nums[i]:\n",
    "                        nums[i], nums[j] = nums[j], nums[i]\n",
    "                        for k in range(i+1, (len(nums) + i + 1) // 2, 1):\n",
    "                            nums[k], nums[len(nums)-1-k+(i+1)] = nums[len(nums)-1-k+(i+1)], nums[k]\n",
    "                        return nums\n",
    "        return nums.reverse()"
   ]
  },
  {
   "cell_type": "code",
   "execution_count": null,
   "metadata": {},
   "outputs": [],
   "source": [
    "class Solution(object):\n",
    "    def nextPermutation(self, nums):\n",
    "        \"\"\"\n",
    "        :type nums: List[int]\n",
    "        :rtype: None Do not return anything, modify nums in-place instead.\n",
    "        \"\"\"\n",
    "        if len(nums) == 0 or len(nums) == 1:\n",
    "            return nums\n",
    "        for i in range(len(nums) - 2, -1, -1):\n",
    "            if nums[i] < nums[i+1]:\n",
    "                for j in range(len(nums) - 1, -1, -1):\n",
    "                    if nums[j] > nums[i]:\n",
    "                        nums[i], nums[j] = nums[j], nums[i]\n",
    "                        for k in range(i+1, (len(nums) + i + 1) // 2, 1):\n",
    "                            nums[k], nums[len(nums)-1-k+(i+1)] = nums[len(nums)-1-k+(i+1)], nums[k]\n",
    "                        return nums\n",
    "        for i in range(len(nums) // 2):\n",
    "            nums[i], nums[len(nums) - 1 - i] = nums[len(nums) - 1 - i], nums[i]\n",
    "        return nums"
   ]
  }
 ],
 "metadata": {
  "kernelspec": {
   "display_name": "Python 3",
   "language": "python",
   "name": "python3"
  },
  "language_info": {
   "codemirror_mode": {
    "name": "ipython",
    "version": 3
   },
   "file_extension": ".py",
   "mimetype": "text/x-python",
   "name": "python",
   "nbconvert_exporter": "python",
   "pygments_lexer": "ipython3",
   "version": "3.7.4"
  }
 },
 "nbformat": 4,
 "nbformat_minor": 2
}
